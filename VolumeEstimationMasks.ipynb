{
  "nbformat": 4,
  "nbformat_minor": 0,
  "metadata": {
    "colab": {
      "provenance": [],
      "machine_shape": "hm",
      "gpuType": "A100",
      "authorship_tag": "ABX9TyNoPIycRKnrP9WdmsW7U8UG",
      "include_colab_link": true
    },
    "kernelspec": {
      "name": "python3",
      "display_name": "Python 3"
    },
    "language_info": {
      "name": "python"
    },
    "accelerator": "GPU"
  },
  "cells": [
    {
      "cell_type": "markdown",
      "metadata": {
        "id": "view-in-github",
        "colab_type": "text"
      },
      "source": [
        "<a href=\"https://colab.research.google.com/github/Ajogeorge29/AI_in_Prognosis/blob/main/VolumeEstimationMasks.ipynb\" target=\"_parent\"><img src=\"https://colab.research.google.com/assets/colab-badge.svg\" alt=\"Open In Colab\"/></a>"
      ]
    },
    {
      "cell_type": "markdown",
      "source": [
        "ESTIMATION OF VOLUME OF NASOPALATINE FROM SEGMENTED BINARY MASKS"
      ],
      "metadata": {
        "id": "GYg8RZbdFMkt"
      }
    },
    {
      "cell_type": "code",
      "source": [
        "\n",
        "from google.colab import drive\n",
        "drive.mount('/content/drive')\n"
      ],
      "metadata": {
        "colab": {
          "base_uri": "https://localhost:8080/"
        },
        "id": "96qxR-DvFdfc",
        "outputId": "45d09baf-efac-4da0-ea09-f36c2d47b09c"
      },
      "execution_count": null,
      "outputs": [
        {
          "output_type": "stream",
          "name": "stdout",
          "text": [
            "Mounted at /content/drive\n"
          ]
        }
      ]
    },
    {
      "cell_type": "code",
      "source": [
        "import nibabel as nib\n",
        "import numpy as np\n",
        "\n",
        "# Step 1: Load the .nii file\n",
        "file_path = \"/content/drive/MyDrive/nasopalatine New/labelsTr/Nasopalatine_002.nii\"  # Replace with the path to your .nii file\n",
        "nii = nib.load(file_path)\n",
        "\n",
        "# Step 2: Extract the voxel data\n",
        "voxel_data = nii.get_fdata()  # This retrieves the 3D array of the mask\n",
        "\n",
        "# Step 3: Verify the data is binary\n",
        "# If not binary, threshold the data to make it binary (values: 0 or 1)\n",
        "binary_mask = (voxel_data > 0).astype(int)\n",
        "\n",
        "# Step 4: Calculate the voxel volume\n",
        "voxel_spacing = nii.header.get_zooms()  # Get voxel dimensions (e.g., in mm)\n",
        "voxel_volume = np.prod(voxel_spacing)  # Multiply X, Y, and Z spacings to get voxel volume in mm³\n",
        "\n",
        "# Step 5: Count the non-zero voxels\n",
        "non_zero_voxels = np.sum(binary_mask)\n",
        "\n",
        "# Step 6: Calculate the total volume in mm³\n",
        "total_volume_mm3 = non_zero_voxels * voxel_volume\n",
        "\n",
        "# Step 7: Print the results\n",
        "print(f\"Total volume of the mask: {total_volume_mm3:.2f} mm³\")\n"
      ],
      "metadata": {
        "colab": {
          "base_uri": "https://localhost:8080/"
        },
        "id": "uiSu2DEzFznE",
        "outputId": "9041fbfd-2e54-4a04-94bc-8f4db3a68682"
      },
      "execution_count": null,
      "outputs": [
        {
          "output_type": "stream",
          "name": "stdout",
          "text": [
            "Total volume of the mask: 109.92 mm³\n"
          ]
        }
      ]
    },
    {
      "cell_type": "markdown",
      "source": [
        "calculate all the volumes of available files in the filder labelsTr"
      ],
      "metadata": {
        "id": "zm-q9EoeG7vV"
      }
    },
    {
      "cell_type": "code",
      "source": [
        "import nibabel as nib\n",
        "import numpy as np\n",
        "import pandas as pd\n",
        "import os\n",
        "\n",
        "# Step 1: Define the folder containing .nii files\n",
        "folder_path = \"/content/drive/MyDrive/nasopalatine New/labelsTr\"  # Replace with the path to your folder\n",
        "\n",
        "# Step 2: Initialize an empty list to store results\n",
        "results = []\n",
        "\n",
        "# Step 3: Loop through all .nii files in the folder\n",
        "for filename in os.listdir(folder_path):\n",
        "    if filename.endswith(\".nii\") or filename.endswith(\".nii.gz\"):  # Process only .nii and .nii.gz files\n",
        "        file_path = os.path.join(folder_path, filename)\n",
        "\n",
        "        # Step 4: Load the .nii file\n",
        "        nii = nib.load(file_path)\n",
        "        voxel_data = nii.get_fdata()  # 3D array of the mask\n",
        "        voxel_spacing = nii.header.get_zooms()  # Get voxel dimensions (e.g., in mm)\n",
        "        voxel_volume = np.prod(voxel_spacing)  # Volume of a single voxel in mm³\n",
        "\n",
        "        # Step 5: Calculate total volume of the mask\n",
        "        binary_mask = (voxel_data > 0).astype(int)  # Ensure binary mask\n",
        "        non_zero_voxels = np.sum(binary_mask)  # Count non-zero voxels\n",
        "        total_volume_mm3 = non_zero_voxels * voxel_volume  # Calculate volume in mm³\n",
        "\n",
        "        # Step 6: Append results to the list\n",
        "        results.append({\"Filename\": filename, \"Volume (mm³)\": total_volume_mm3})\n",
        "\n",
        "# Step 7: Create a DataFrame for tabular output\n",
        "df = pd.DataFrame(results)\n",
        "\n",
        "# Step 8: Save results to a CSV file\n",
        "output_file = \"mask_volumes_summary.csv\"\n",
        "df.to_csv(output_file, index=False)\n",
        "\n",
        "# Step 9: Print the table\n",
        "print(df)\n"
      ],
      "metadata": {
        "colab": {
          "base_uri": "https://localhost:8080/"
        },
        "id": "dMopWqcOGet0",
        "outputId": "8e94e578-8583-4bc7-8fb3-1938ab86697d"
      },
      "execution_count": null,
      "outputs": [
        {
          "output_type": "stream",
          "name": "stdout",
          "text": [
            "                Filename  Volume (mm³)\n",
            "0   Nasopalatine_002.nii    109.917010\n",
            "1   Nasopalatine_003.nii     87.831008\n",
            "2   Nasopalatine_004.nii    100.008009\n",
            "3   Nasopalatine_005.nii    484.704046\n",
            "4   Nasopalatine_006.nii    451.575043\n",
            "..                   ...           ...\n",
            "56  Nasopalatine_057.nii     87.048008\n",
            "57  Nasopalatine_058.nii    100.224010\n",
            "58  Nasopalatine_059.nii    161.865015\n",
            "59  Nasopalatine_060.nii     58.563006\n",
            "60  Nasopalatine_061.nii     35.532003\n",
            "\n",
            "[61 rows x 2 columns]\n"
          ]
        }
      ]
    }
  ]
}